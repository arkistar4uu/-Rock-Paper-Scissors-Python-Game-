{
 "cells": [
  {
   "cell_type": "markdown",
   "id": "2454fd17-8d94-4d59-898a-58cfc137408c",
   "metadata": {},
   "source": [
    "# 🪨 Rock! 📄 Paper!! ✂️ Scissors!!! – Python Game  \n",
    "### 🏆 Classic Rock-Paper-Scissors in Python 🏆  \n",
    "\n",
    "Welcome to this interactive **Rock-Paper-Scissors** game built with Python!  \n",
    "Challenge the computer in this fun and simple command-line game. Can you beat the AI? 😃  \n",
    "\n",
    "---\n",
    "\n",
    "## 🎮 How to Play?  \n",
    "1. Run the Python script.  \n",
    "2. Enter your move:  \n",
    "   - **r** for Rock  \n",
    "   - **p** for Paper  \n",
    "   - **s** for Scissors  \n",
    "3. The computer will randomly choose its move.  \n",
    "4. The winner is decided based on standard rules:  \n",
    "   - **Rock crushes Scissors** 🏆  \n",
    "   - **Scissors cuts Paper** ✂️  \n",
    "   - **Paper covers Rock** 📄  \n",
    "5. The game keeps track of scores!  \n",
    "6. You can choose to continue or quit after each round.\n",
    "\n",
    "---\n",
    "\n",
    "## 🛠 Features  \n",
    "✅ Simple text-based interface  \n",
    "✅ Randomized computer moves 🤖  \n",
    "✅ Win/Loss messages with emojis 🎉  \n",
    "✅ **Score Tracking** 🏅  \n",
    "✅ **Replay Option** after every round  \n",
    "\n",
    "---\n",
    "\n",
    "## 🔥 Future Enhancements  \n",
    "🔹 Implement a graphical interface using **Tkinter** or **PyGame**  \n",
    "🔹 Add a **leaderboard** to store high scores  \n",
    "🔹 Enable **multiplayer mode**  \n",
    "\n",
    "---\n",
    "\n",
    "### 📌 Requirements  \n",
    "You only need **Python 3.x** to run this game. No external libraries required.  \n",
    "\n",
    "---\n",
    "\n",
    "### 🚀 Running the Game  \n",
    "Simply run the script in a Python environment (Jupyter Notebook, VS Code, Terminal, or any Python IDE).  \n",
    "\n",
    "```\n",
    "python rock_paper_scissors.py\n",
    "```\n",
    "\n",
    "Enjoy playing! 🎮  \n",
    "\n",
    "---"
   ]
  },
  {
   "cell_type": "code",
   "execution_count": 2,
   "id": "a3dafb82-85d6-44bf-b5d5-b76b276b7943",
   "metadata": {},
   "outputs": [
    {
     "name": "stdout",
     "output_type": "stream",
     "text": [
      "Welcome to Rock! Paper!! Scissors!!!\n"
     ]
    },
    {
     "name": "stdin",
     "output_type": "stream",
     "text": [
      "What is your move? (r, p or s) p\n"
     ]
    },
    {
     "name": "stdout",
     "output_type": "stream",
     "text": [
      "You picked p\n",
      "The computer picked s\n",
      "You Lost, Scissors beats Paper\n",
      "Scores\n",
      "😃0\n",
      "🤖1\n"
     ]
    },
    {
     "name": "stdin",
     "output_type": "stream",
     "text": [
      "Do you want to continue playing? (Yes/No) yes\n",
      "What is your move? (r, p or s) s\n"
     ]
    },
    {
     "name": "stdout",
     "output_type": "stream",
     "text": [
      "You picked s\n",
      "The computer picked s\n",
      "It was a draw! 😅, Great minds think alike! 🧠🎩\n",
      "Scores\n",
      "😃0\n",
      "🤖1\n"
     ]
    },
    {
     "name": "stdin",
     "output_type": "stream",
     "text": [
      "Do you want to continue playing? (Yes/No) yes\n",
      "What is your move? (r, p or s) p\n"
     ]
    },
    {
     "name": "stdout",
     "output_type": "stream",
     "text": [
      "You picked p\n",
      "The computer picked r\n",
      "Your paper has elegantly enveloped the rock! You win! 🎉\n",
      "Scores\n",
      "😃1\n",
      "🤖1\n"
     ]
    },
    {
     "name": "stdin",
     "output_type": "stream",
     "text": [
      "Do you want to continue playing? (Yes/No) yes\n",
      "What is your move? (r, p or s) r\n"
     ]
    },
    {
     "name": "stdout",
     "output_type": "stream",
     "text": [
      "You picked r\n",
      "The computer picked s\n",
      "You’ve unleashed the crushing power of rock! You win! Rock beats Scissors🥳\n",
      "Scores\n",
      "😃2\n",
      "🤖1\n"
     ]
    },
    {
     "name": "stdin",
     "output_type": "stream",
     "text": [
      "Do you want to continue playing? (Yes/No) no\n"
     ]
    }
   ],
   "source": [
    "#Start code here\n",
    "import random\n",
    "print(\"Welcome to Rock! Paper!! Scissors!!!\")\n",
    "user_score = 0\n",
    "comp_score = 0\n",
    "while True:\n",
    "  player_move = input(\"What is your move? (r, p or s)\")\n",
    "  print(\"You picked\", player_move)\n",
    "  all_moves = [\"r\", \"p\", \"s\"]\n",
    "  comp_move = random.choice(all_moves)\n",
    "  print(\"The computer picked\", comp_move)\n",
    "  if player_move.lower() == comp_move:\n",
    "    print(\"It was a draw! 😅, Great minds think alike! 🧠🎩\")\n",
    "  elif player_move.lower() == \"r\":\n",
    "    if comp_move == \"p\":\n",
    "      print(\"You Lost, Paper beats rock\")\n",
    "      comp_score += 1\n",
    "    elif comp_move == \"s\":\n",
    "      print(\"You’ve unleashed the crushing power of rock! You win! Rock beats Scissors🥳\")\n",
    "      user_score += 1\n",
    "  elif player_move.lower() == \"p\":\n",
    "    if comp_move == \"r\":\n",
    "      print(\"Your paper has elegantly enveloped the rock! You win! 🎉\")\n",
    "      user_score += 1\n",
    "    elif comp_move == \"s\":\n",
    "      print(\"You Lost, Scissors beats Paper\")\n",
    "      comp_score += 1\n",
    "  elif player_move.lower() == \"s\":\n",
    "    if comp_move == \"r\":\n",
    "      print(\"You Lost, Rock beats Scissors\")\n",
    "      comp_score += 1\n",
    "    elif comp_move == \"p\":\n",
    "      print(\"Your scissors has cut through the paper! You win! ✂️🏆\")\n",
    "      user_score += 1\n",
    "  print(\"Scores\")\n",
    "  print(f\"😃{user_score}\")\n",
    "  print(f\"🤖{comp_score}\")\n",
    "  continue2 = input(\"Do you want to continue playing? (Yes/No)\")\n",
    "  if continue2.lower() == \"no\":\n",
    "    break\n"
   ]
  },
  {
   "cell_type": "code",
   "execution_count": null,
   "id": "6d733a09-9ecb-4991-bbbc-f322f3fd9ced",
   "metadata": {},
   "outputs": [],
   "source": []
  }
 ],
 "metadata": {
  "kernelspec": {
   "display_name": "Python [conda env:base] *",
   "language": "python",
   "name": "conda-base-py"
  },
  "language_info": {
   "codemirror_mode": {
    "name": "ipython",
    "version": 3
   },
   "file_extension": ".py",
   "mimetype": "text/x-python",
   "name": "python",
   "nbconvert_exporter": "python",
   "pygments_lexer": "ipython3",
   "version": "3.12.2"
  }
 },
 "nbformat": 4,
 "nbformat_minor": 5
}
